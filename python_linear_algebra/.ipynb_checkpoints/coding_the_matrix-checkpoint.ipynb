{
 "cells": [
  {
   "cell_type": "code",
   "execution_count": 38,
   "metadata": {
    "scrolled": true
   },
   "outputs": [
    {
     "name": "stdout",
     "output_type": "stream",
     "text": [
      ">>> tuple_sum([(1,2), (10,20)],[(3,4), (30,40)]) is\n",
      "[(4, 6), (40, 60)]\n",
      ">>> tuple_sum([(0,1),(-1,0),(2,2)], [(3,4),(5,6),(7,8)]) is\n",
      "[(3, 5), (4, 6), (9, 10)]\n"
     ]
    }
   ],
   "source": [
    "\n",
    "## 1: (Problem 0.8.3) Tuple Sum\n",
    "def tuple_sum(A, B):\n",
    "    '''\n",
    "    Input:\n",
    "      -A: a list of tuples\n",
    "      -B: a list of tuples\n",
    "    Output:\n",
    "      -list of pairs (x,y) in which the first element of the\n",
    "      ith pair is the sum of the first element of the ith pair in\n",
    "      A and the first element of the ith pair in B\n",
    "    Examples:\n",
    "    >>> tuple_sum([(1,2), (10,20)],[(3,4), (30,40)])\n",
    "    [(4, 6), (40, 60)]\n",
    "    >>> tuple_sum([(0,1),(-1,0),(2,2)], [(3,4),(5,6),(7,8)])\n",
    "    [(3, 5), (4, 6), (9, 10)]\n",
    "    '''\n",
    "    output=[]\n",
    "    for x in  zip(A,B):\n",
    "        output.append((x[0][0] + x[1][0], x[0][1] + x[1][1]))\n",
    "    return output\n",
    "    pass\n",
    "\n",
    "\n",
    "\n",
    "print '>>> tuple_sum([(1,2), (10,20)],[(3,4), (30,40)]) is'\n",
    "print tuple_sum([(1,2), (10,20)],[(3,4), (30,40)])\n",
    "\n",
    "print '>>> tuple_sum([(0,1),(-1,0),(2,2)], [(3,4),(5,6),(7,8)]) is'\n",
    "print tuple_sum([(0,1),(-1,0),(2,2)], [(3,4),(5,6),(7,8)])\n",
    "\n"
   ]
  },
  {
   "cell_type": "code",
   "execution_count": 78,
   "metadata": {
    "scrolled": true
   },
   "outputs": [
    {
     "data": {
      "text/plain": [
       "True"
      ]
     },
     "execution_count": 78,
     "metadata": {},
     "output_type": "execute_result"
    }
   ],
   "source": [
    "\n",
    "## 2: (Problem 0.8.4) Inverse Dictionary\n",
    "def inv_dict(d):\n",
    "    '''\n",
    "    Input:\n",
    "      -d: dictionary representing an invertible function f\n",
    "    Output:\n",
    "      -dictionary representing the inverse of f, the returned dictionary's\n",
    "       keys are the values of d and its values are the keys of d\n",
    "    Example:\n",
    "    >>> inv_dict({'goodbye':  'au revoir', 'thank you': 'merci'}) == {'merci':'thank you', 'au revoir':'goodbye'}\n",
    "    '''\n",
    "    return {v:k for (k,v) in d.items()}\n",
    "    pass\n",
    "\n",
    "inv_dict({'goodbye':  'au revoir', 'thank you': 'merci'}) == {'merci':'thank you', 'au revoir':'goodbye'}"
   ]
  },
  {
   "cell_type": "code",
   "execution_count": 98,
   "metadata": {},
   "outputs": [
    {
     "data": {
      "text/plain": [
       "True"
      ]
     },
     "execution_count": 98,
     "metadata": {},
     "output_type": "execute_result"
    }
   ],
   "source": [
    "\n",
    "\n",
    "\n",
    "\n",
    "## 3: (Problem 0.8.5) Nested Comprehension\n",
    "def row(p, n):\n",
    "    '''\n",
    "    Input:\n",
    "      -p: a number\n",
    "      -n: a number\n",
    "    Output:\n",
    "      - n-element list such that element i is p+i\n",
    "    Examples:\n",
    "    >>> row(10,4)\n",
    "    [10, 11, 12, 13]\n",
    "\n",
    "    Next write a comprehension whose value is a 15-element list of 20-element lists such that the jth element of\n",
    "    the ith list is i + j. You can use row(p, n) in your comprehension.\n",
    "    Finally, write the same comprehension but without using row(p, n). Hint: replace the call to row(p,\n",
    "    n) with the comprehension that forms the body of row(p, n).\n",
    "\n",
    "    '''\n",
    "    return [p+i for i  in list(range(n))]\n",
    "    pass\n",
    "\n",
    "comprehension_with_row = [row(i,20) for i in range(15)]\n",
    "comprehension_without_row = [ [p+i for i in list(range(20))] for p in range(15)]\n",
    "\n",
    "\n",
    "comprehension_without_row == comprehension_with_row\n"
   ]
  },
  {
   "cell_type": "code",
   "execution_count": 108,
   "metadata": {},
   "outputs": [
    {
     "name": "stdout",
     "output_type": "stream",
     "text": [
      "0.7\n",
      "0.3\n",
      "0.4\n",
      "0.6\n"
     ]
    }
   ],
   "source": [
    "## 4: (Problem 0.8.10) Probability Exercise 1\n",
    "'''\n",
    "A function f(x) = x + 1 with domain {1; 2; 3; 5; 6} and codomain {2; 3; 4; 6; 7} has the\n",
    "following probability function on its domain: Pr(1) = 0.5, Pr(2) = 0.2 and Pr(3) = Pr(5) = Pr(6) = 0.1.\n",
    "What is the probability of getting an even number as an output of f(x)? An odd number?\n",
    "\n",
    "'''\n",
    "\n",
    "#if domain is odd output would be even (eg, 1,3,5 will give 2,4,6)\n",
    "#if domain is even output would be odd (eg. 2,6 will gives 3,7)\n",
    "\n",
    "Pr1 = 0.5\n",
    "Pr2 = 0.2\n",
    "Pr3 = Pr5 = Pr6 = 0.1\n",
    "Pr_f_is_even = Pr1 + Pr3 + Pr5\n",
    "Pr_f_is_odd  = Pr2 + Pr6 \n",
    "\n",
    "print Pr_f_is_even\n",
    "print Pr_f_is_odd\n",
    "\n",
    "## 5: (Problem 0.8.11) Probability Exercise 2\n",
    "'''\n",
    "A function g(x) = x mod 3 with domain {1; 2; 3; 4; 5; 6; 7} and codomain {0; 1; 2} has the\n",
    "following probability function on its domain: Pr(1) = Pr(2) = Pr(3) = 0.2 and Pr(4) = Pr(5) = Pr(6) =\n",
    "Pr(7) = 0.1. What is the probability of getting 1 as an output of g(x)? What is the probability of getting 0\n",
    "or 2?\n",
    "'''\n",
    "\n",
    "\n",
    "Pr1 = Pr2 = Pr3 = 0.2 \n",
    "Pr4 = Pr5 = Pr6 = Pr7 = 0.1\n",
    "\n",
    "Pr_g_is_1    = Pr1 + Pr4 + Pr7\n",
    "Pr_g_is_0or2 =  Pr2 + Pr3 + Pr5 + Pr6\n",
    "\n",
    "\n",
    "print Pr_g_is_1\n",
    "print Pr_g_is_0or2"
   ]
  },
  {
   "cell_type": "code",
   "execution_count": null,
   "metadata": {
    "collapsed": true
   },
   "outputs": [],
   "source": []
  }
 ],
 "metadata": {
  "kernelspec": {
   "display_name": "Python 2",
   "language": "python",
   "name": "python2"
  }
 },
 "nbformat": 4,
 "nbformat_minor": 2
}
